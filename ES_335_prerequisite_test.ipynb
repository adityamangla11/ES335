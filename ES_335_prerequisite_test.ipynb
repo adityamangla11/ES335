{
 "cells": [
  {
   "cell_type": "code",
   "execution_count": 5,
   "id": "ffe2a16d",
   "metadata": {},
   "outputs": [],
   "source": [
    "import numpy as np\n",
    "import pandas as pd\n",
    "import matplotlib as mpl\n",
    "import matplotlib.pyplot as plt\n",
    "%matplotlib inline\n",
    "import sys\n",
    "import time\n",
    "import random\n",
    "import sympy as sy\n",
    "from sympy import symbols, diff, sin, lambdify, cos"
   ]
  },
  {
   "cell_type": "markdown",
   "id": "608a0e77",
   "metadata": {},
   "source": [
    "# Q1)"
   ]
  },
  {
   "cell_type": "markdown",
   "id": "f4f88d11",
   "metadata": {},
   "source": [
    "i) Number of multiplications = n.m.k\n",
    "ii) Number of multiplications = n.m.(k-1)"
   ]
  },
  {
   "cell_type": "markdown",
   "id": "00c68e25",
   "metadata": {},
   "source": [
    "# Q2)"
   ]
  },
  {
   "cell_type": "code",
   "execution_count": 8,
   "id": "684be130",
   "metadata": {},
   "outputs": [
    {
     "name": "stdout",
     "output_type": "stream",
     "text": [
      "[[ 3  6  7  5  3  4  6  4 10  8  5  8  7  3]\n",
      " [ 6  6  5  9  3  7  9  8  4  6  7  3  6  7]\n",
      " [ 7 10  9  4  8  5  5  4  7  8  6  8  8  5]\n",
      " [10  5  5  7  6  4  7  7  5  6  7  8  7  8]\n",
      " [10  8  7  9  5  9  8  7  6  9 10  8  8 10]\n",
      " [10  3  7  5  9  5  4  7  9  4  4  9  8  8]\n",
      " [10  5  7  7  8 10  7  6  3  6  8 10  8  5]\n",
      " [ 8  8 10  5  9  9  8 10  3  5  8  8  5  5]\n",
      " [ 3 10  4 10  5  5  3  5  8  5  3  3  5  4]\n",
      " [ 7  8  3  7  4  8  4  4  5 10  5 10  4  4]\n",
      " [ 5  4  3  4  4  9 10 10  6  6  5  5  4  6]\n",
      " [10  3  4  4  8  5  9  3 10  5  5  7 10  7]\n",
      " [ 3  7  4  8  7  9  8  6  6  3  8  9  5  6]\n",
      " [ 3  6  5  6  4  5  9  9  3  5  5 10 10  4]\n",
      " [ 4  4  7  7  7  5  3  3  3  3  8  5 10  7]\n",
      " [ 6  7  8  9  6 10  3  8  4  4 10  3 10 10]\n",
      " [ 5  3  5  8 10 10  5 10  4  8  8  4  9  5]\n",
      " [ 6  7  9  6  7  8  5  4  4  7  6  5 10  6]\n",
      " [ 3  4 10  9 10  6  3  7 10  3  6  6  6  7]\n",
      " [ 3  7  5  8 10  5  9 10  4  8  7 10  4  8]]\n",
      "[[ 5  9  7 10  5  3  8  7  4  6 10  5 10]\n",
      " [ 8  8  3  9 10  4  6  7  3  4 10  5  9]\n",
      " [ 9  8  4  6 10  3  8  6  4  9  4  5  9]\n",
      " [ 3  3  7  4  4  7  9  3  7  5  4  9  9]\n",
      " [ 7  3  3  7 10 10  8  8  5  6 10  3  5]\n",
      " [ 5  9  6  8  5  6  6  3 10  5 10  6  6]\n",
      " [ 9  3  4  6  3  3  5 10  3  4  5  4  5]\n",
      " [10 10  9  8 10  4  8  4 10  7  7  7  3]\n",
      " [ 5  8  5  8  6  7 10  3 10  6  5  5  4]\n",
      " [ 8  3  8  4 10  4  7  4  8  7  8  3  3]\n",
      " [ 9  7  9  4 10 10  6  5  8 10 10  5  6]\n",
      " [ 4  4  8  4  9  3 10  9  8  3  9  4  8]\n",
      " [ 9  6  7  4  3  3  3  5  9  6  3  9  3]\n",
      " [ 3 10  3 10  7 10  4  4  6  5  5 10  6]]\n"
     ]
    }
   ],
   "source": [
    "n = 20  # Number of rows for the first matrix\n",
    "m = 13  # Number of rows for the second matrix\n",
    "k = 14  # Number of columns for both matrices\n",
    "\n",
    "# Range of integers for the matrices\n",
    "min_value = 3\n",
    "max_value = 10\n",
    "\n",
    "np.random.seed(41)\n",
    "matrix_nk = np.random.randint(min_value, max_value + 1, size=(n, k))\n",
    "matrix_mk = np.random.randint(min_value, max_value + 1, size=(k,m))\n",
    "print(matrix_nk)\n",
    "print(matrix_mk)\n",
    "\n",
    "def matrix_multiply_without(matrix_A, matrix_B):\n",
    "    if len(matrix_A[0]) != len(matrix_B):\n",
    "        raise ValueError(\"Matrices are incompatible\")\n",
    "\n",
    "    # Initialize result matrix\n",
    "    result_matrix = [[0 for _ in range(len(matrix_B[0]))] for _ in range(len(matrix_A))]\n",
    "\n",
    "    for i in range(len(matrix_A)):\n",
    "        for j in range(len(matrix_B[0])):\n",
    "            for k in range(len(matrix_B)):\n",
    "                result_matrix[i][j] += matrix_A[i][k] * matrix_B[k][j]\n",
    "\n",
    "    return result_matrix\n",
    "\n",
    "def matrix_multiply_with(matrix_A, matrix_B):\n",
    "    return np.matmul(matrix_nk,matrix_mk)"
   ]
  },
  {
   "cell_type": "code",
   "execution_count": 9,
   "id": "b056d296",
   "metadata": {
    "scrolled": true
   },
   "outputs": [
    {
     "name": "stdout",
     "output_type": "stream",
     "text": [
      "1.68 ms ± 62.4 µs per loop (mean ± std. dev. of 7 runs, 1000 loops each)\n"
     ]
    }
   ],
   "source": [
    "%timeit matrix_multiply_without(matrix_nk,matrix_mk)"
   ]
  },
  {
   "cell_type": "code",
   "execution_count": 10,
   "id": "b47db359",
   "metadata": {},
   "outputs": [
    {
     "name": "stdout",
     "output_type": "stream",
     "text": [
      "3.05 µs ± 13.9 ns per loop (mean ± std. dev. of 7 runs, 100000 loops each)\n"
     ]
    }
   ],
   "source": [
    "%timeit matrix_multiply_with(matrix_nk,matrix_mk)"
   ]
  },
  {
   "cell_type": "markdown",
   "id": "2b23cac8",
   "metadata": {},
   "source": [
    "The reasons for why multiplication using Numpy is much faster than using conventional loops are:\n",
    "\n",
    "Vectorization:\n",
    "NumPy operations work on entire arrays at once, using parallel computing. In contrast, when using loops in pure Python, each element in the array must be processed individually, leading to slower execution times.\n",
    "\n",
    "C Implementation:\n",
    "NumPy is implemented in C and Fortran, which are lower-level languages than Python. The core operations are executed at a lower level, resulting in faster computation compared to interpreted Python code. \n",
    "\n",
    "Avoiding Python Interpreter Overhead:\n",
    "NumPy operations are implemented in compiled code, which avoids the interpreter overhead that comes with interpreted languages like Python. In contrast, when using pure Python loops, the interpreter needs to execute each iteration, leading to slower execution.\n",
    "\n",
    "Broadcasting:\n",
    "NumPy supports broadcasting, which allows operations between arrays of different shapes and sizes to be performed without the need for explicit looping. Broadcasting enables NumPy to efficiently handle operations on arrays of different dimensions and shapes, making code concise and faster."
   ]
  },
  {
   "cell_type": "markdown",
   "id": "6816ac91",
   "metadata": {},
   "source": [
    "# Q3) "
   ]
  },
  {
   "cell_type": "markdown",
   "id": "ef009b81",
   "metadata": {},
   "source": [
    "Using the method described in the question, the time complexity should be O(n^2). This is because to find the nth largest element, n passes of the array will be required. Since median is the (n-n//2)th largest element if n is odd or the average of (n-n//2)th and (n-(n//2)+1)th largest if n is even (n is the length of array), we'll require that many atleast n-n//2 number of passes. Since each pass iterates over the entire array, T.C = O(n^2).\n",
    "\n",
    "A better method could be to use divide and conquer approach, which gives O(n) in average case and O(n^2) in the worst case. In this method, we choose a pivot element, and put it at its correct position, while ensuring the elements left of it are smaller and on the right are larger. Then according to the index of where the pivot element was placed, we either repeat the process on the right side or the left.\n",
    "In the average case, a constant proportion of elements will fall both below and above the pivot, and thus the siz e of the array will get reduced exponentially.\n",
    "\n",
    "For the first method, I simply used 2 nested for loops.\n",
    "The second method is the quickselect algorithm."
   ]
  },
  {
   "cell_type": "code",
   "execution_count": null,
   "id": "492aacb5",
   "metadata": {},
   "outputs": [],
   "source": [
    "# Method 1 (of the question), to find the nth largest element\n",
    "def median_pass(arr):\n",
    "    n = len(arr)\n",
    "    def helper(arr,n):\n",
    "        if n <= 0 or n > len(arr):\n",
    "            return None\n",
    "\n",
    "        for i in range(n):\n",
    "            max_element_index = i\n",
    "            for j in range(i + 1, len(arr)):\n",
    "                if arr[j] > arr[max_element_index]:\n",
    "                    max_element_index = j\n",
    "\n",
    "            arr[i], arr[max_element_index] = arr[max_element_index], arr[i]\n",
    "\n",
    "        return arr[n - 1]\n",
    "    \n",
    "    # If length of array is odd\n",
    "    if n%2 != 0:\n",
    "        return helper(arr,(n-n//2))\n",
    "    \n",
    "    # If length of array is even\n",
    "    else:\n",
    "        return (helper(arr,(n-n//2))+helper(arr,((n-n//2)+1)))/2"
   ]
  },
  {
   "cell_type": "code",
   "execution_count": null,
   "id": "42851ccb",
   "metadata": {},
   "outputs": [],
   "source": [
    "# Quickselect algorithm\n",
    "def median_quickselect(arr):\n",
    "    n = len(arr)\n",
    "    def quick_select_kth_largest(arr,k):\n",
    "        k = len(arr) - k\n",
    "        def quickselect(start,end):\n",
    "            p = start\n",
    "            pivot = arr[end]\n",
    "            for i in range(start,end):\n",
    "                if arr[i] <= pivot:\n",
    "                    arr[i],arr[p] = arr[p],arr[i]\n",
    "                    p+=1\n",
    "            arr[p],arr[end] = arr[end],arr[p]\n",
    "\n",
    "            if p>k:\n",
    "                return quickselect(start,p-1)\n",
    "            elif p<k:\n",
    "                return quickselect(p+1,end)\n",
    "            else:\n",
    "                return arr[p]\n",
    "        return quickselect(0,len(arr)-1)\n",
    "    \n",
    "    if n%2 != 0:\n",
    "        return quick_select_kth_largest(arr,(n-n//2))\n",
    "    else:\n",
    "        return (quick_select_kth_largest(arr,(n-n//2))+quick_select_kth_largest(arr,((n-n//2)+1)))/2\n",
    "    \n",
    "test_arr = [random.randint(0, 1000) for _ in range(1000)]"
   ]
  },
  {
   "cell_type": "code",
   "execution_count": null,
   "id": "eee16940",
   "metadata": {},
   "outputs": [],
   "source": [
    "%timeit median_pass(test_arr)"
   ]
  },
  {
   "cell_type": "code",
   "execution_count": null,
   "id": "8d80269b",
   "metadata": {},
   "outputs": [],
   "source": [
    "%timeit median_quickselect(test_arr)"
   ]
  },
  {
   "cell_type": "code",
   "execution_count": null,
   "id": "f10a49d2",
   "metadata": {},
   "outputs": [],
   "source": [
    "%timeit np.median(test_arr)"
   ]
  },
  {
   "cell_type": "markdown",
   "id": "35e3a40b",
   "metadata": {},
   "source": [
    "Clearly, np.median is around a thousand times faster than the other 2 methods. The quickselect algorithm probably is taking more time to run is because of the recursion calls involved. Even if we sort the array and access the middle element, it is taking a longer time than the O(N^2) approach."
   ]
  },
  {
   "cell_type": "markdown",
   "id": "1e997ea2",
   "metadata": {},
   "source": [
    "# Q4)"
   ]
  },
  {
   "cell_type": "code",
   "execution_count": 22,
   "id": "6eb0738a",
   "metadata": {},
   "outputs": [
    {
     "name": "stdout",
     "output_type": "stream",
     "text": [
      "[6.44143536 3.8074849  6.63047905]\n",
      "[1.63650726 9.62607814 3.4666184 ]\n"
     ]
    }
   ],
   "source": [
    "np.random.seed(30)\n",
    "\n",
    "# Taking uniform gives us float values, which is required for jax.grad\n",
    "a = np.random.uniform(0, 10, 3)\n",
    "b = np.random.uniform(0, 10, 3)"
   ]
  },
  {
   "cell_type": "code",
   "execution_count": 23,
   "id": "1407c143",
   "metadata": {},
   "outputs": [
    {
     "name": "stdout",
     "output_type": "stream",
     "text": [
      "Result of df/dx at x=[6.44143536 3.8074849  6.63047905] and y=[1.63650726 9.62607814 3.4666184 ]: [  25.410968   -628.10911081   85.14336066]\n",
      "Result of df/dy at x=[6.44143536 3.8074849  6.63047905] and y=[1.63650726 9.62607814 3.4666184 ]: [  42.75824429 -157.23082179   56.2338205 ]\n"
     ]
    }
   ],
   "source": [
    "#Manually\n",
    "\n",
    "x, y = symbols('x y')\n",
    "\n",
    "f_x = (2*x*y) + (y**3) * cos(x)\n",
    "\n",
    "df_dx_fun = lambdify([x, y], f_x, 'numpy')\n",
    "\n",
    "f_y = (x**2) + (3*y**2) * sin(x)\n",
    "df_dy_fun = lambdify([x, y], f_y, 'numpy')\n",
    "\n",
    "res_dx = df_dx_fun(a, b)\n",
    "res_dy = df_dy_fun(a, b)\n",
    "\n",
    "print(f\"Result of df/dx at x={a} and y={b}: {res_dx}\")\n",
    "print(f\"Result of df/dy at x={a} and y={b}: {res_dy}\")"
   ]
  },
  {
   "cell_type": "code",
   "execution_count": 24,
   "id": "3bf172c4",
   "metadata": {},
   "outputs": [
    {
     "name": "stdout",
     "output_type": "stream",
     "text": [
      "Result of df/dx at x=[6.44143536 3.8074849  6.63047905] and y=[1.63650726 9.62607814 3.4666184 ]: [  25.410968   -628.10911081   85.14336066]\n",
      "Result of df/dy at x=[6.44143536 3.8074849  6.63047905] and y=[1.63650726 9.62607814 3.4666184 ]: [  42.75824429 -157.23082179   56.2338205 ]\n"
     ]
    }
   ],
   "source": [
    "# Simpy\n",
    "x, y = symbols('x y')\n",
    "f = x**2 * y + y**3 * sin(x)\n",
    "\n",
    "df_dx = diff(f, x)\n",
    "df_dy = diff(f, y)\n",
    "\n",
    "df_dx_func = lambdify([x, y], df_dx, 'numpy')\n",
    "df_dy_func = lambdify([x, y], df_dy, 'numpy')\n",
    "\n",
    "result_dx = df_dx_func(a, b)\n",
    "result_dy = df_dy_func(a, b)\n",
    "\n",
    "print(f\"Result of df/dx at x={a} and y={b}: {result_dx}\")\n",
    "print(f\"Result of df/dy at x={a} and y={b}: {result_dy}\")"
   ]
  },
  {
   "cell_type": "code",
   "execution_count": 17,
   "id": "0f709801",
   "metadata": {},
   "outputs": [
    {
     "name": "stderr",
     "output_type": "stream",
     "text": [
      "<>:13: SyntaxWarning: 'int' object is not callable; perhaps you missed a comma?\n",
      "<>:13: SyntaxWarning: 'int' object is not callable; perhaps you missed a comma?\n"
     ]
    },
    {
     "ename": "AttributeError",
     "evalue": "partially initialized module 'jax' has no attribute 'version' (most likely due to a circular import)",
     "output_type": "error",
     "traceback": [
      "\u001b[0;31m---------------------------------------------------------------------------\u001b[0m",
      "\u001b[0;31mAttributeError\u001b[0m                            Traceback (most recent call last)",
      "\u001b[0;32m/var/folders/7t/h6nc4v553694h_3_tyjyfrf80000gn/T/ipykernel_4445/3257802895.py\u001b[0m in \u001b[0;36m<module>\u001b[0;34m\u001b[0m\n\u001b[1;32m      1\u001b[0m \u001b[0;31m# JAX\u001b[0m\u001b[0;34m\u001b[0m\u001b[0;34m\u001b[0m\u001b[0m\n\u001b[1;32m      2\u001b[0m \u001b[0;34m\u001b[0m\u001b[0m\n\u001b[0;32m----> 3\u001b[0;31m \u001b[0;32mimport\u001b[0m \u001b[0mjax\u001b[0m\u001b[0;34m\u001b[0m\u001b[0;34m\u001b[0m\u001b[0m\n\u001b[0m\u001b[1;32m      4\u001b[0m \u001b[0;32mimport\u001b[0m \u001b[0mjax\u001b[0m\u001b[0;34m.\u001b[0m\u001b[0mnumpy\u001b[0m \u001b[0;32mas\u001b[0m \u001b[0mjnp\u001b[0m\u001b[0;34m\u001b[0m\u001b[0;34m\u001b[0m\u001b[0m\n\u001b[1;32m      5\u001b[0m \u001b[0;32mimport\u001b[0m \u001b[0mnumpy\u001b[0m \u001b[0;32mas\u001b[0m \u001b[0mnp\u001b[0m\u001b[0;34m\u001b[0m\u001b[0;34m\u001b[0m\u001b[0m\n",
      "\u001b[0;32m~/opt/anaconda3/lib/python3.9/site-packages/jax/__init__.py\u001b[0m in \u001b[0;36m<module>\u001b[0;34m\u001b[0m\n\u001b[1;32m     37\u001b[0m \u001b[0;31m# We want the exported object to be the class, so we first import the module\u001b[0m\u001b[0;34m\u001b[0m\u001b[0;34m\u001b[0m\u001b[0m\n\u001b[1;32m     38\u001b[0m \u001b[0;31m# to make sure a later import doesn't overwrite the class.\u001b[0m\u001b[0;34m\u001b[0m\u001b[0;34m\u001b[0m\u001b[0m\n\u001b[0;32m---> 39\u001b[0;31m \u001b[0;32mfrom\u001b[0m \u001b[0mjax\u001b[0m \u001b[0;32mimport\u001b[0m \u001b[0mconfig\u001b[0m \u001b[0;32mas\u001b[0m \u001b[0m_config_module\u001b[0m\u001b[0;34m\u001b[0m\u001b[0;34m\u001b[0m\u001b[0m\n\u001b[0m\u001b[1;32m     40\u001b[0m \u001b[0;32mdel\u001b[0m \u001b[0m_config_module\u001b[0m\u001b[0;34m\u001b[0m\u001b[0;34m\u001b[0m\u001b[0m\n\u001b[1;32m     41\u001b[0m \u001b[0;34m\u001b[0m\u001b[0m\n",
      "\u001b[0;32m~/opt/anaconda3/lib/python3.9/site-packages/jax/config.py\u001b[0m in \u001b[0;36m<module>\u001b[0;34m\u001b[0m\n\u001b[1;32m     13\u001b[0m \u001b[0;31m# limitations under the License.\u001b[0m\u001b[0;34m\u001b[0m\u001b[0;34m\u001b[0m\u001b[0m\n\u001b[1;32m     14\u001b[0m \u001b[0;34m\u001b[0m\u001b[0m\n\u001b[0;32m---> 15\u001b[0;31m \u001b[0;32mfrom\u001b[0m \u001b[0mjax\u001b[0m\u001b[0;34m.\u001b[0m\u001b[0m_src\u001b[0m\u001b[0;34m.\u001b[0m\u001b[0mconfig\u001b[0m \u001b[0;32mimport\u001b[0m \u001b[0mconfig\u001b[0m \u001b[0;32mas\u001b[0m \u001b[0m_deprecated_config\u001b[0m  \u001b[0;31m# noqa: F401\u001b[0m\u001b[0;34m\u001b[0m\u001b[0;34m\u001b[0m\u001b[0m\n\u001b[0m\u001b[1;32m     16\u001b[0m \u001b[0;34m\u001b[0m\u001b[0m\n\u001b[1;32m     17\u001b[0m \u001b[0;31m# Deprecations\u001b[0m\u001b[0;34m\u001b[0m\u001b[0;34m\u001b[0m\u001b[0m\n",
      "\u001b[0;32m~/opt/anaconda3/lib/python3.9/site-packages/jax/_src/config.py\u001b[0m in \u001b[0;36m<module>\u001b[0;34m\u001b[0m\n\u001b[1;32m     26\u001b[0m \u001b[0;32mimport\u001b[0m \u001b[0mwarnings\u001b[0m\u001b[0;34m\u001b[0m\u001b[0;34m\u001b[0m\u001b[0m\n\u001b[1;32m     27\u001b[0m \u001b[0;34m\u001b[0m\u001b[0m\n\u001b[0;32m---> 28\u001b[0;31m \u001b[0;32mfrom\u001b[0m \u001b[0mjax\u001b[0m\u001b[0;34m.\u001b[0m\u001b[0m_src\u001b[0m \u001b[0;32mimport\u001b[0m \u001b[0mlib\u001b[0m\u001b[0;34m\u001b[0m\u001b[0;34m\u001b[0m\u001b[0m\n\u001b[0m\u001b[1;32m     29\u001b[0m \u001b[0;32mfrom\u001b[0m \u001b[0mjax\u001b[0m\u001b[0;34m.\u001b[0m\u001b[0m_src\u001b[0m\u001b[0;34m.\u001b[0m\u001b[0mlib\u001b[0m \u001b[0;32mimport\u001b[0m \u001b[0mjax_jit\u001b[0m\u001b[0;34m\u001b[0m\u001b[0;34m\u001b[0m\u001b[0m\n\u001b[1;32m     30\u001b[0m \u001b[0;32mfrom\u001b[0m \u001b[0mjax\u001b[0m\u001b[0;34m.\u001b[0m\u001b[0m_src\u001b[0m\u001b[0;34m.\u001b[0m\u001b[0mlib\u001b[0m \u001b[0;32mimport\u001b[0m \u001b[0mtransfer_guard_lib\u001b[0m\u001b[0;34m\u001b[0m\u001b[0;34m\u001b[0m\u001b[0m\n",
      "\u001b[0;32m~/opt/anaconda3/lib/python3.9/site-packages/jax/_src/lib/__init__.py\u001b[0m in \u001b[0;36m<module>\u001b[0;34m\u001b[0m\n\u001b[1;32m     73\u001b[0m \u001b[0mversion_str\u001b[0m \u001b[0;34m=\u001b[0m \u001b[0mjaxlib\u001b[0m\u001b[0;34m.\u001b[0m\u001b[0mversion\u001b[0m\u001b[0;34m.\u001b[0m\u001b[0m__version__\u001b[0m\u001b[0;34m\u001b[0m\u001b[0;34m\u001b[0m\u001b[0m\n\u001b[1;32m     74\u001b[0m version = check_jaxlib_version(\n\u001b[0;32m---> 75\u001b[0;31m   \u001b[0mjax_version\u001b[0m\u001b[0;34m=\u001b[0m\u001b[0mjax\u001b[0m\u001b[0;34m.\u001b[0m\u001b[0mversion\u001b[0m\u001b[0;34m.\u001b[0m\u001b[0m__version__\u001b[0m\u001b[0;34m,\u001b[0m\u001b[0;34m\u001b[0m\u001b[0;34m\u001b[0m\u001b[0m\n\u001b[0m\u001b[1;32m     76\u001b[0m   \u001b[0mjaxlib_version\u001b[0m\u001b[0;34m=\u001b[0m\u001b[0mjaxlib\u001b[0m\u001b[0;34m.\u001b[0m\u001b[0mversion\u001b[0m\u001b[0;34m.\u001b[0m\u001b[0m__version__\u001b[0m\u001b[0;34m,\u001b[0m\u001b[0;34m\u001b[0m\u001b[0;34m\u001b[0m\u001b[0m\n\u001b[1;32m     77\u001b[0m   minimum_jaxlib_version=jax.version._minimum_jaxlib_version)\n",
      "\u001b[0;31mAttributeError\u001b[0m: partially initialized module 'jax' has no attribute 'version' (most likely due to a circular import)"
     ]
    }
   ],
   "source": [
    "# JAX\n",
    "\n",
    "import jax\n",
    "import jax.numpy as jnp\n",
    "import numpy as np\n",
    "from sympy import sin,cos\n",
    "\n",
    "def f(x, y):\n",
    "    return (x*2)(y) + (y**3)*jnp.sin(x)\n",
    "\n",
    "def analytical_gradient(x, y):\n",
    "    df_dx = 2*x*y + (y**3)*jnp.cos(x)\n",
    "    df_dy = (x*2) + 3(y**2)*jnp.sin(x)\n",
    "    return np.array([df_dx, df_dy])\n",
    "\n",
    "grad_fun = jax.grad(f,argnums=[0,1])\n",
    "\n",
    "computed_gradient = []\n",
    "for i in range(len(a)):\n",
    "    computed_gradient.append(grad_fun(a[i],b[i]))\n",
    "\n",
    "print(\"Computed Gradient:\", computed_gradient)"
   ]
  },
  {
   "cell_type": "markdown",
   "id": "3ff0f71a",
   "metadata": {},
   "source": [
    "# Q7)"
   ]
  },
  {
   "cell_type": "code",
   "execution_count": null,
   "id": "5db0da60",
   "metadata": {},
   "outputs": [],
   "source": [
    "academic_data = {\n",
    "    2022: {\n",
    "        'Branch 1': [\n",
    "            {'Roll Number': 1, 'Name': 'A', 'Marks': {'Maths': 100, 'English': 70}},\n",
    "            {'Roll Number': 2, 'Name': 'B', 'Marks': {'Maths': 70, 'English': 100}},\n",
    "            {'Roll Number': 3, 'Name': 'C', 'Marks': {'Maths': 70, 'English': 70}}\n",
    "            \n",
    "        ],\n",
    "        'Branch 2': [\n",
    "        ]\n",
    "    },\n",
    "    2023: {\n",
    "        'Branch 1': [\n",
    "        ],\n",
    "        'Branch 2': [\n",
    "        ]\n",
    "    },\n",
    "    2024: {\n",
    "        'Branch 1': [\n",
    "        ],\n",
    "        'Branch 2': [\n",
    "        ]\n",
    "    },\n",
    "    2025: {\n",
    "        'Branch 1': [\n",
    "        ],\n",
    "        'Branch 2': [\n",
    "        ]\n",
    "    }\n",
    "}\n",
    "\n",
    "# Accessing the data for the first roll number in 'branch 1' in A.Y. 2022\n",
    "print(f'Name of the first roll no. ( = {academic_data[2022][\"Branch 1\"][0][\"Roll Number\"]}) in \"Branch 1\" in A.Y. 2022 was: {academic_data[2022][\"Branch 1\"][0][\"Name\"]}')\n",
    "print(f'Marks in Maths and English of the first roll no.( = {academic_data[2022][\"Branch 1\"][0][\"Roll Number\"]}) in \"Branch 1\" in A.Y. 2022 were {academic_data[2022][\"Branch 1\"][0][\"Marks\"][\"Maths\"]} and {academic_data[2022][\"Branch 1\"][0][\"Marks\"][\"English\"]} respectively\\n')\n",
    "print(academic_data)"
   ]
  },
  {
   "cell_type": "markdown",
   "id": "2c2aa5ac",
   "metadata": {},
   "source": [
    "# Q8)"
   ]
  },
  {
   "cell_type": "code",
   "execution_count": null,
   "id": "8104d2b1",
   "metadata": {},
   "outputs": [],
   "source": [
    "class Student:\n",
    "    def __init__(self, roll_number, name, marks):\n",
    "        self.roll_number = roll_number\n",
    "        self.name = name\n",
    "        self.marks = marks\n",
    "\n",
    "    def __str__(self):\n",
    "        return f\"Roll Number: {self.roll_number}, Name: {self.name}, Marks: {self.marks}\"\n",
    "\n",
    "\n",
    "class Branch:\n",
    "    def __init__(self, name):\n",
    "        self.name = name\n",
    "        self.students = []\n",
    "\n",
    "    def add_student(self, student):\n",
    "        self.students.append(student)\n",
    "\n",
    "    def __str__(self):\n",
    "        return f\"Branch: {self.name}, Students: {self.students}\"\n",
    "\n",
    "\n",
    "class Year:\n",
    "    def __init__(self, year):\n",
    "        self.year = year\n",
    "        self.branches = []\n",
    "\n",
    "    def add_branch(self, branch):\n",
    "        self.branches.append(branch)\n",
    "\n",
    "    def __str__(self):\n",
    "        return f\"Year: {self.year}, Branches: {self.branches}\"\n",
    "\n",
    "\n",
    "# Overall Database (List of Year objects)\n",
    "database = []\n",
    "\n",
    "# Creating students\n",
    "student1 = Student(1, 'A', {'Maths': 100, 'English': 70})\n",
    "student2 = Student(2, 'B', {'Maths': 70, 'English': 100})\n",
    "student3 = Student(3, 'C', {'Maths': 70, 'English': 70})\n",
    "\n",
    "# Creating branches and adding students\n",
    "branch1 = Branch('Branch 1')\n",
    "branch1.add_student(student1)\n",
    "branch1.add_student(student2)\n",
    "branch1.add_student(student3)\n",
    "\n",
    "branch2 = Branch('Branch 2')\n",
    "\n",
    "# Creating years and adding branches\n",
    "year2022 = Year(2022)\n",
    "year2022.add_branch(branch1)\n",
    "year2022.add_branch(branch2)\n",
    "\n",
    "year2023 = Year(2023)\n",
    "\n",
    "year2024 = Year(2024)\n",
    "\n",
    "year2025 = Year(2025)\n",
    "\n",
    "# Adding years to the database\n",
    "database.append(year2022)\n",
    "database.append(year2023)\n",
    "database.append(year2024)\n",
    "database.append(year2025)\n",
    "\n",
    "print(f'Name of the first roll no. ( = {database[0].branches[0].students[0].roll_number}) in \"Branch 1\" in A.Y. 2022 was: {database[0].branches[0].students[0].name}')"
   ]
  },
  {
   "cell_type": "markdown",
   "id": "bec65aaa",
   "metadata": {},
   "source": [
    "# Q9)"
   ]
  },
  {
   "cell_type": "code",
   "execution_count": null,
   "id": "b8f6df45",
   "metadata": {},
   "outputs": [],
   "source": [
    "# Domain and step size\n",
    "x_values = np.arange(0.5, 100.5, 0.5)\n",
    "\n",
    "fig, ax = plt.subplots(7,figsize=(8, 16))\n",
    "ax[0].plot(x_values, x_values)\n",
    "ax[1].plot(x_values, (x_values)**2)\n",
    "ax[2].plot(x_values, ((x_values)**3)/100)\n",
    "ax[3].plot(x_values, np.sin(x_values))\n",
    "ax[4].plot(x_values, (np.sin(x_values))/(x_values))\n",
    "ax[5].plot(x_values, np.log(x_values))\n",
    "ax[6].plot(x_values, np.exp(x_values))\n",
    "\n",
    "ax[0].set_title('y = x')\n",
    "ax[1].set_title('y = x^2')\n",
    "ax[2].set_title('y = (x^3)/100')\n",
    "ax[3].set_title('y = sin(x)')\n",
    "ax[4].set_title('y = sin(x)/x')\n",
    "ax[5].set_title('y = log(x)')\n",
    "ax[6].set_title('y = e^x')\n",
    "\n",
    "for i in range(7):\n",
    "    ax[i].set_xlabel('x')\n",
    "    ax[i].set_ylabel('y')\n",
    "\n",
    "\n",
    "plt.subplots_adjust(hspace=1.5)\n",
    "\n",
    "\n",
    "plt.show()"
   ]
  },
  {
   "cell_type": "markdown",
   "id": "217602e4",
   "metadata": {},
   "source": [
    "# Q10)"
   ]
  },
  {
   "cell_type": "code",
   "execution_count": null,
   "id": "26718c70",
   "metadata": {},
   "outputs": [],
   "source": [
    "np.random.seed(0) \n",
    "matrix = np.random.uniform(1, 2, size=(20, 5)) # Generating a random 20*5 matrix\n",
    "df = pd.DataFrame(matrix, columns=['a', 'b', 'c', 'd', 'e']) # Creating a dataframe from the matrix\n",
    "max_std_column = df.std(axis = 0).idxmax()\n",
    "print(f\"Column with the highest standard deviation: {max_std_column}\")\n",
    "min_mean_row = df.mean(axis = 1).idxmin()\n",
    "print(f\"Row with the lowest mean: {min_mean_row}\")\n",
    "df"
   ]
  },
  {
   "cell_type": "markdown",
   "id": "07717c3c",
   "metadata": {},
   "source": [
    "# Q11)"
   ]
  },
  {
   "cell_type": "code",
   "execution_count": null,
   "id": "a86102e9",
   "metadata": {},
   "outputs": [],
   "source": [
    "df['f'] = df[['a', 'b', 'c', 'd', 'e']].sum(axis=1) # Adding 'f' column\n",
    "df['g'] = np.where(df['f'] < 8, 'LT8', 'GT8') # Adding 'g' column\n",
    "\n",
    "num_rows_lt8 = len(df[df['g'] == 'LT8'])\n",
    "print(f'No. of rows in which value in \"f\" column is < 8: {num_rows_lt8}')\n",
    "\n",
    "std_lt8 = df.loc[df['g'] == 'LT8', 'f'].std() #standard deviation of column \"f\" for rows where \"g\" is \"LT8\"\n",
    "std_gt8 = df.loc[df['g'] == 'GT8', 'f'].std() #standard deviation of column \"f\" for rows where \"g\" is \"GT8\"\n",
    "\n",
    "print(\"Standard deviation of 'f' for rows where 'g' is 'LT8':\", std_lt8)\n",
    "print(\"Standard deviation of 'f' for rows where 'g' is 'GT8':\", std_gt8)\n",
    "df"
   ]
  },
  {
   "cell_type": "markdown",
   "id": "6a002cc6",
   "metadata": {},
   "source": [
    "# Q12)"
   ]
  },
  {
   "cell_type": "markdown",
   "id": "955ed609",
   "metadata": {},
   "source": [
    "Broadcasting is a feature that enables arrays with different shapes to be used in arithmetic operations. The smaller array is broadcasted across the larger array so that they have compatible shapes, or both the arrays can be broadcast as well. Broadcasting provides a means of vectorizing array operations so that looping occurs in C instead of Python. It can be thought of as stretching the incompatible values, without actually utilizing any additional memory."
   ]
  },
  {
   "cell_type": "code",
   "execution_count": null,
   "id": "8707457b",
   "metadata": {},
   "outputs": [],
   "source": [
    "# Eg 1\n",
    "a = np.array([1,2,3])\n",
    "b = 5\n",
    "print(f'Sum of a and b is = {a+b}')  # Scalar b is 'stretched' to (3,1) to enable vectorisation and element-wise addition\n",
    "\n",
    "# Eg 2\n",
    "c = np.arange(3)\n",
    "d = np.arange(3)[:, np.newaxis]\n",
    "\n",
    "print(f'Shape of matrix c is {c.shape}')\n",
    "print(f'Shape of matrix d is {d.shape}')\n",
    "print(f'Sum of matrix c and d is = {c+d}') # c and d are both broadcast to a common shape, i.e (3,3)"
   ]
  },
  {
   "cell_type": "markdown",
   "id": "b7d89a60",
   "metadata": {},
   "source": [
    "# Q13)"
   ]
  },
  {
   "cell_type": "code",
   "execution_count": null,
   "id": "a1c6626f",
   "metadata": {},
   "outputs": [],
   "source": [
    "# Will return the index of the first occurence of the minimum element. If array is multidimensional, it will flatten it and treat it as a 1-D array\n",
    "\n",
    "def solve(arr,min_val =sys.maxsize,count = -1,index = -1):\n",
    "    if arr.ndim == 1:\n",
    "        for element in arr:\n",
    "            index += 1\n",
    "            if element < min_val:\n",
    "                count = index\n",
    "                min_val = element\n",
    "                \n",
    "    else:\n",
    "        for subarray in arr:\n",
    "            min_val,count,index = solve(subarray,min_val,count,index) \n",
    "    return [min_val,count,index]\n",
    "\n",
    "def argmin_personal(arr):\n",
    "    return solve(arr)[1]\n",
    "\n",
    "matrix_test = np.random.rand(2, 3, 2)\n",
    "\n",
    "print(f'Minimum element occurs in the numpy array for the first time at index = {argmin_personal(matrix_test)}')\n",
    "print(f'Minimum element occurs in the numpy array for the first time at index by built-in function = {np.argmin(matrix_test)}')\n",
    "print(f'Answer obtained is same as that of \"np.argmin\"? Yes' if np.argmin(matrix_test) == argmin_personal(matrix_test) else 'No')"
   ]
  }
 ],
 "metadata": {
  "kernelspec": {
   "display_name": "Python 3 (ipykernel)",
   "language": "python",
   "name": "python3"
  },
  "language_info": {
   "codemirror_mode": {
    "name": "ipython",
    "version": 3
   },
   "file_extension": ".py",
   "mimetype": "text/x-python",
   "name": "python",
   "nbconvert_exporter": "python",
   "pygments_lexer": "ipython3",
   "version": "3.9.13"
  }
 },
 "nbformat": 4,
 "nbformat_minor": 5
}
